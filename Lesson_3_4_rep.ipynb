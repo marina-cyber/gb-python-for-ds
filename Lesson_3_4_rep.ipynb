{
 "cells": [
  {
   "cell_type": "code",
   "execution_count": 1,
   "metadata": {},
   "outputs": [],
   "source": [
    "import numpy as np"
   ]
  },
  {
   "cell_type": "code",
   "execution_count": 3,
   "metadata": {},
   "outputs": [
    {
     "name": "stdout",
     "output_type": "stream",
     "text": [
      "[12 13 14 15 16 17 18 19 20 21 22 23]\n"
     ]
    }
   ],
   "source": [
    "a = np.arange(12,24)\n",
    "print(a)"
   ]
  },
  {
   "cell_type": "code",
   "execution_count": 12,
   "metadata": {},
   "outputs": [
    {
     "name": "stdout",
     "output_type": "stream",
     "text": [
      "[[12 13 14 15 16 17 18 19 20 21 22 23]]\n",
      "[[12 13 14 15 16 17]\n",
      " [18 19 20 21 22 23]]\n",
      "[[12 13 14 15]\n",
      " [16 17 18 19]\n",
      " [20 21 22 23]]\n",
      "[[12 13 14]\n",
      " [15 16 17]\n",
      " [18 19 20]\n",
      " [21 22 23]]\n",
      "[[12 13]\n",
      " [14 15]\n",
      " [16 17]\n",
      " [18 19]\n",
      " [20 21]\n",
      " [22 23]]\n"
     ]
    }
   ],
   "source": [
    "a1 = a.reshape(1,12)\n",
    "a2 = a.reshape(2,6)\n",
    "a3 = a.reshape(3,4)\n",
    "a4 = a.reshape(4,3)\n",
    "a5 = a.reshape(6,2)\n",
    "\n",
    "\n",
    "print(a1)\n",
    "print(a2)\n",
    "print(a3)\n",
    "print(a4)\n",
    "print(a5)"
   ]
  },
  {
   "cell_type": "code",
   "execution_count": 14,
   "metadata": {},
   "outputs": [
    {
     "name": "stdout",
     "output_type": "stream",
     "text": [
      "[[12 13 14 15 16 17 18 19 20 21 22 23]]\n",
      "[[12 13 14 15 16 17]\n",
      " [18 19 20 21 22 23]]\n",
      "[[12 13 14 15]\n",
      " [16 17 18 19]\n",
      " [20 21 22 23]]\n",
      "[[12 13 14]\n",
      " [15 16 17]\n",
      " [18 19 20]\n",
      " [21 22 23]]\n",
      "[[12 13]\n",
      " [14 15]\n",
      " [16 17]\n",
      " [18 19]\n",
      " [20 21]\n",
      " [22 23]]\n"
     ]
    }
   ],
   "source": [
    "b1 = a.reshape(-1,12)\n",
    "b2 = a.reshape(-1,6)\n",
    "b3 = a.reshape(3,-1)\n",
    "b4 = a.reshape(4,-1)\n",
    "b5 = a.reshape(6,-1)\n",
    "\n",
    "print(b1)\n",
    "print(b2)\n",
    "print(b3)\n",
    "print(b4)\n",
    "print(b5)"
   ]
  },
  {
   "cell_type": "code",
   "execution_count": null,
   "metadata": {},
   "outputs": [],
   "source": [
    "#Можно ли массив Numpy, состоящий из одного столбца и 12 строк, назвать одномерным?\n",
    "#Ответ - нет, для обращения к элементу массива понадобится указывать два индекса."
   ]
  },
  {
   "cell_type": "code",
   "execution_count": 32,
   "metadata": {},
   "outputs": [
    {
     "name": "stdout",
     "output_type": "stream",
     "text": [
      "[[-0.1148932  -0.05673488 -0.07611844  0.04896995]\n",
      " [ 0.15421296 -0.00394898  0.11521377  0.12339812]\n",
      " [ 0.01069764 -0.16668048  0.1068586  -0.02510144]]\n",
      "12\n",
      "[-0.1148932  -0.05673488 -0.07611844  0.04896995  0.15421296 -0.00394898\n",
      "  0.11521377  0.12339812  0.01069764 -0.16668048  0.1068586  -0.02510144]\n",
      "12\n"
     ]
    }
   ],
   "source": [
    "import random\n",
    "\n",
    "mu = 0\n",
    "sigma = 0.1\n",
    "N = 3\n",
    "M = 4\n",
    "\n",
    "nums =np.array([[random.normalvariate(mu, sigma) for j in range(M)] for i in range(N)])\n",
    "print(nums)\n",
    "\n",
    "print(nums.size)\n",
    "\n",
    "rd = np.asarray(nums).ravel()\n",
    "print(rd)\n",
    "print(rd.size)"
   ]
  },
  {
   "cell_type": "code",
   "execution_count": 34,
   "metadata": {},
   "outputs": [
    {
     "name": "stdout",
     "output_type": "stream",
     "text": [
      "[20 18 16 14 12 10  8  6  4  2]\n"
     ]
    }
   ],
   "source": [
    "#Создать массив a, состоящий из целых чисел, убывающих от 20 до 0 невключительно с интервалом 2.\n",
    "a = np.arange(20,0, -2)\n",
    "print(a)"
   ]
  },
  {
   "cell_type": "code",
   "execution_count": 48,
   "metadata": {},
   "outputs": [
    {
     "name": "stdout",
     "output_type": "stream",
     "text": [
      "[[20 18 16 14 12 10  8  6  4  2]]\n"
     ]
    }
   ],
   "source": [
    "#Создать массив b, состоящий из 1 строки и 10 столбцов: целых чисел, убывающих от 20 до 1 невключительно с интервалом 2. \n",
    "#В чем разница между массивами a и b?\n",
    "#\n",
    "b = np.arange(20,1, -2).reshape(1,-1)\n",
    "\n",
    "print(b)\n"
   ]
  },
  {
   "cell_type": "code",
   "execution_count": 53,
   "metadata": {},
   "outputs": [
    {
     "name": "stdout",
     "output_type": "stream",
     "text": [
      "[[0 0]\n",
      " [0 0]]\n",
      "[[1 1]\n",
      " [1 1]\n",
      " [1 1]]\n",
      "[[0 0]\n",
      " [0 0]\n",
      " [1 1]\n",
      " [1 1]\n",
      " [1 1]]\n",
      "10\n"
     ]
    }
   ],
   "source": [
    "N = 2\n",
    "M = 2\n",
    "\n",
    "a = np.array([[0 for j in range(M)] for i in range(N)])\n",
    "b = np.array([[1 for j in range(M)] for i in range(N + 1)])\n",
    "\n",
    "print(a)\n",
    "print(b)\n",
    "\n",
    "d = np.vstack([a,b])\n",
    "\n",
    "print(d)\n",
    "print(d.size)"
   ]
  },
  {
   "cell_type": "code",
   "execution_count": 69,
   "metadata": {},
   "outputs": [
    {
     "name": "stdout",
     "output_type": "stream",
     "text": [
      "Вектор а:\n",
      "[ 0  1  2  3  4  5  6  7  8  9 10 11]\n",
      "Матрица A:\n",
      "[[ 0  1  2]\n",
      " [ 3  4  5]\n",
      " [ 6  7  8]\n",
      " [ 9 10 11]]\n",
      "Матрица At:\n",
      "[[ 0  3  6  9]\n",
      " [ 1  4  7 10]\n",
      " [ 2  5  8 11]]\n",
      "Матрица B:\n",
      "[[  5  14  23  32]\n",
      " [ 14  50  86 122]\n",
      " [ 23  86 149 212]\n",
      " [ 32 122 212 302]]\n",
      "Обратная матрица к B не существует, так как матрица B сингулярная\n"
     ]
    }
   ],
   "source": [
    "from numpy import linalg as LA\n",
    "\n",
    "a = np.arange(0,12)\n",
    "A = a.reshape(4,3)\n",
    "print(f\"Вектор а:\\n{a}\")\n",
    "print(f\"Матрица A:\\n{A}\")\n",
    "\n",
    "At = A.T\n",
    "\n",
    "print(f\"Матрица At:\\n{At}\")\n",
    "\n",
    "B = A.dot(At)\n",
    "print(f\"Матрица B:\\n{B}\")\n",
    "\n",
    "Bdet = LA.det(B)\n",
    "if(Bdet == 0):\n",
    "    print(f\"Обратная матрица к B не существует, так как матрица B сингулярная\")\n",
    "else:\n",
    "    Binv = LA.inv(B)\n",
    "    print(Binv)"
   ]
  },
  {
   "cell_type": "code",
   "execution_count": 72,
   "metadata": {},
   "outputs": [],
   "source": [
    "random.seed(42)\n",
    "from random import randint"
   ]
  },
  {
   "cell_type": "code",
   "execution_count": 81,
   "metadata": {},
   "outputs": [
    {
     "name": "stdout",
     "output_type": "stream",
     "text": [
      "Матрица m:\n",
      "[10 15  0  3 11  9  7  1  7  2  2 15  2  4  4 15]\n",
      "Матрица C:\n",
      "[[10 15  0  3]\n",
      " [11  9  7  1]\n",
      " [ 7  2  2 15]\n",
      " [ 2  4  4 15]]\n"
     ]
    }
   ],
   "source": [
    "m = np.array([randint(0, 16) for j in range(16)])\n",
    "C = m.reshape(4,-1)\n",
    "print(f\"Матрица m:\\n{m}\")\n",
    "print(f\"Матрица C:\\n{C}\")"
   ]
  },
  {
   "cell_type": "code",
   "execution_count": 84,
   "metadata": {},
   "outputs": [
    {
     "name": "stdout",
     "output_type": "stream",
     "text": [
      "Определитель = 490445199.9999993, Ранг = 429. Матрица D:\n",
      "[[105 164  23  62]\n",
      " [124 140 156 132]\n",
      " [ 93 106 169 362]\n",
      " [ 52 162 252 452]]\n",
      " Матрица Dinv:\n",
      "[[-0.00100064  0.00454191  0.01175577 -0.01060416]\n",
      " [ 0.00719183 -0.00241307 -0.00859268  0.00659996]\n",
      " [-0.00676797  0.00885171 -0.00585794  0.00303488]\n",
      " [ 0.00131081 -0.00459268  0.00499318 -0.00062515]]\n"
     ]
    }
   ],
   "source": [
    "D = B + 10*C\n",
    "Ddet = LA.det(D)\n",
    "Drange = np.ptp(D)\n",
    "Dinv = LA.inv(D)\n",
    "\n",
    "print(f\"Определитель = {Ddet}, Ранг = {Drange}. Матрица D:\\n{D}\\n Матрица Dinv:\\n{Dinv}\")"
   ]
  },
  {
   "cell_type": "code",
   "execution_count": 85,
   "metadata": {},
   "outputs": [
    {
     "name": "stdout",
     "output_type": "stream",
     "text": [
      "Матрица Dinv:\n",
      "[[0 1 1 0]\n",
      " [1 0 0 1]\n",
      " [0 1 0 1]\n",
      " [1 0 1 0]]\n"
     ]
    }
   ],
   "source": [
    "Dinv = np.where(Dinv < 0, 0, 1)\n",
    "print(f\"Матрица Dinv:\\n{Dinv}\")"
   ]
  },
  {
   "cell_type": "code",
   "execution_count": 86,
   "metadata": {},
   "outputs": [
    {
     "name": "stdout",
     "output_type": "stream",
     "text": [
      "Матрица E:\n",
      "[[ 10  14  23   3]\n",
      " [ 14   9   7 122]\n",
      " [  7  86   2 212]\n",
      " [ 32   4 212  15]]\n",
      "Матрица B:\n",
      "[[  5  14  23  32]\n",
      " [ 14  50  86 122]\n",
      " [ 23  86 149 212]\n",
      " [ 32 122 212 302]]\n",
      "Матрица C:\n",
      "[[10 15  0  3]\n",
      " [11  9  7  1]\n",
      " [ 7  2  2 15]\n",
      " [ 2  4  4 15]]\n"
     ]
    }
   ],
   "source": [
    "E = np.where(Dinv == 1, B, C)\n",
    "print(f\"Матрица E:\\n{E}\")\n",
    "print(f\"Матрица B:\\n{B}\")\n",
    "print(f\"Матрица C:\\n{C}\")"
   ]
  },
  {
   "cell_type": "code",
   "execution_count": null,
   "metadata": {},
   "outputs": [],
   "source": []
  }
 ],
 "metadata": {
  "kernelspec": {
   "display_name": "Python 3",
   "language": "python",
   "name": "python3"
  },
  "language_info": {
   "codemirror_mode": {
    "name": "ipython",
    "version": 3
   },
   "file_extension": ".py",
   "mimetype": "text/x-python",
   "name": "python",
   "nbconvert_exporter": "python",
   "pygments_lexer": "ipython3",
   "version": "3.8.5"
  }
 },
 "nbformat": 4,
 "nbformat_minor": 4
}
